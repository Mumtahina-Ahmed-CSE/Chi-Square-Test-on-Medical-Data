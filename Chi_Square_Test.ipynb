{
  "nbformat": 4,
  "nbformat_minor": 0,
  "metadata": {
    "colab": {
      "name": "Chi Square Test",
      "provenance": [],
      "mount_file_id": "19KQUfquDq_M48oqvj6ruAp2Gmva1g5my",
      "authorship_tag": "ABX9TyPuBVKK9PnZNIhcL1TZipbM",
      "include_colab_link": true
    },
    "kernelspec": {
      "display_name": "Python 3",
      "name": "python3"
    },
    "language_info": {
      "name": "python"
    }
  },
  "cells": [
    {
      "cell_type": "markdown",
      "metadata": {
        "id": "view-in-github",
        "colab_type": "text"
      },
      "source": [
        "<a href=\"https://colab.research.google.com/github/Mumtahina-Ahmed-CSE/Chi-Square-Test-on-Medical-Data/blob/main/Chi_Square_Test.ipynb\" target=\"_parent\"><img src=\"https://colab.research.google.com/assets/colab-badge.svg\" alt=\"Open In Colab\"/></a>"
      ]
    },
    {
      "cell_type": "code",
      "metadata": {
        "id": "ILinuQQMv3MI",
        "colab": {
          "base_uri": "https://localhost:8080/"
        },
        "outputId": "d65ae37a-e9b6-4a56-b397-f5836361e08c"
      },
      "source": [
        "from google.colab import drive\n",
        "drive.mount('/content/drive')"
      ],
      "execution_count": 1,
      "outputs": [
        {
          "output_type": "stream",
          "text": [
            "Drive already mounted at /content/drive; to attempt to forcibly remount, call drive.mount(\"/content/drive\", force_remount=True).\n"
          ],
          "name": "stdout"
        }
      ]
    },
    {
      "cell_type": "code",
      "metadata": {
        "colab": {
          "base_uri": "https://localhost:8080/"
        },
        "id": "tdvzRiyGynFw",
        "outputId": "f0320c6c-e481-4eee-ae98-0471af4d5ef4"
      },
      "source": [
        "!pip install bioinfokit"
      ],
      "execution_count": 8,
      "outputs": [
        {
          "output_type": "stream",
          "text": [
            "Collecting bioinfokit\n",
            "\u001b[?25l  Downloading https://files.pythonhosted.org/packages/33/23/e28f528e56cd34c9b4f29ae7fd1dce1fcc40d88abcf551d34651900f8be5/bioinfokit-2.0.2.tar.gz (82kB)\n",
            "\r\u001b[K     |████                            | 10kB 17.8MB/s eta 0:00:01\r\u001b[K     |████████                        | 20kB 22.9MB/s eta 0:00:01\r\u001b[K     |████████████                    | 30kB 26.7MB/s eta 0:00:01\r\u001b[K     |███████████████▉                | 40kB 21.0MB/s eta 0:00:01\r\u001b[K     |███████████████████▉            | 51kB 20.7MB/s eta 0:00:01\r\u001b[K     |███████████████████████▉        | 61kB 17.2MB/s eta 0:00:01\r\u001b[K     |███████████████████████████▊    | 71kB 16.4MB/s eta 0:00:01\r\u001b[K     |███████████████████████████████▊| 81kB 16.4MB/s eta 0:00:01\r\u001b[K     |████████████████████████████████| 92kB 7.5MB/s \n",
            "\u001b[?25hRequirement already satisfied: pandas in /usr/local/lib/python3.7/dist-packages (from bioinfokit) (1.1.5)\n",
            "Requirement already satisfied: numpy in /usr/local/lib/python3.7/dist-packages (from bioinfokit) (1.19.5)\n",
            "Requirement already satisfied: matplotlib in /usr/local/lib/python3.7/dist-packages (from bioinfokit) (3.2.2)\n",
            "Requirement already satisfied: scipy in /usr/local/lib/python3.7/dist-packages (from bioinfokit) (1.4.1)\n",
            "Requirement already satisfied: scikit-learn in /usr/local/lib/python3.7/dist-packages (from bioinfokit) (0.22.2.post1)\n",
            "Requirement already satisfied: seaborn in /usr/local/lib/python3.7/dist-packages (from bioinfokit) (0.11.1)\n",
            "Requirement already satisfied: matplotlib-venn in /usr/local/lib/python3.7/dist-packages (from bioinfokit) (0.11.6)\n",
            "Requirement already satisfied: tabulate in /usr/local/lib/python3.7/dist-packages (from bioinfokit) (0.8.9)\n",
            "Requirement already satisfied: statsmodels in /usr/local/lib/python3.7/dist-packages (from bioinfokit) (0.10.2)\n",
            "Collecting textwrap3\n",
            "  Downloading https://files.pythonhosted.org/packages/77/9c/a53e561d496ee5866bbeea4d3a850b3b545ed854f8a21007c1e0d872e94d/textwrap3-0.9.2-py2.py3-none-any.whl\n",
            "Collecting adjustText\n",
            "  Downloading https://files.pythonhosted.org/packages/9e/15/4157718bf323fd5f5b81c891c660d0f388e042d2689a558bf1389632dc44/adjustText-0.7.3.tar.gz\n",
            "Requirement already satisfied: pytz>=2017.2 in /usr/local/lib/python3.7/dist-packages (from pandas->bioinfokit) (2018.9)\n",
            "Requirement already satisfied: python-dateutil>=2.7.3 in /usr/local/lib/python3.7/dist-packages (from pandas->bioinfokit) (2.8.1)\n",
            "Requirement already satisfied: pyparsing!=2.0.4,!=2.1.2,!=2.1.6,>=2.0.1 in /usr/local/lib/python3.7/dist-packages (from matplotlib->bioinfokit) (2.4.7)\n",
            "Requirement already satisfied: kiwisolver>=1.0.1 in /usr/local/lib/python3.7/dist-packages (from matplotlib->bioinfokit) (1.3.1)\n",
            "Requirement already satisfied: cycler>=0.10 in /usr/local/lib/python3.7/dist-packages (from matplotlib->bioinfokit) (0.10.0)\n",
            "Requirement already satisfied: joblib>=0.11 in /usr/local/lib/python3.7/dist-packages (from scikit-learn->bioinfokit) (1.0.1)\n",
            "Requirement already satisfied: patsy>=0.4.0 in /usr/local/lib/python3.7/dist-packages (from statsmodels->bioinfokit) (0.5.1)\n",
            "Requirement already satisfied: six>=1.5 in /usr/local/lib/python3.7/dist-packages (from python-dateutil>=2.7.3->pandas->bioinfokit) (1.15.0)\n",
            "Building wheels for collected packages: bioinfokit, adjustText\n",
            "  Building wheel for bioinfokit (setup.py) ... \u001b[?25l\u001b[?25hdone\n",
            "  Created wheel for bioinfokit: filename=bioinfokit-2.0.2-cp37-none-any.whl size=56174 sha256=056b81f19761e02b61770c51be6c8e659fe86173e2b09238271412897187f44b\n",
            "  Stored in directory: /root/.cache/pip/wheels/8e/3c/1d/369f28890a2139410deef43f69444d49bea2c37d3c3904a0fe\n",
            "  Building wheel for adjustText (setup.py) ... \u001b[?25l\u001b[?25hdone\n",
            "  Created wheel for adjustText: filename=adjustText-0.7.3-cp37-none-any.whl size=7100 sha256=441a4320efc3258f8ff6b953b5bebf008b15505a4b342a7c58471a1e504b39b0\n",
            "  Stored in directory: /root/.cache/pip/wheels/41/95/74/7d347e136d672f8bc28e937032bc92baf4f80856763a7e7b72\n",
            "Successfully built bioinfokit adjustText\n",
            "Installing collected packages: textwrap3, adjustText, bioinfokit\n",
            "Successfully installed adjustText-0.7.3 bioinfokit-2.0.2 textwrap3-0.9.2\n"
          ],
          "name": "stdout"
        }
      ]
    },
    {
      "cell_type": "code",
      "metadata": {
        "colab": {
          "base_uri": "https://localhost:8080/",
          "height": 225
        },
        "id": "8mCeqQkl0N8x",
        "outputId": "61c035dc-16ab-4f1b-9bb6-847c83cf264e"
      },
      "source": [
        "import pandas as pd\n",
        "# I am using interactive python interpreter (Python 3.7.4)\n",
        "from bioinfokit.analys import stat, get_data\n",
        "# load example dataset\n",
        "df=pd.read_csv('/content/drive/MyDrive/Colab Notebooks/table.csv', header=0)\n",
        "df.head()"
      ],
      "execution_count": 9,
      "outputs": [
        {
          "output_type": "stream",
          "text": [
            "/usr/local/lib/python3.7/dist-packages/statsmodels/tools/_testing.py:19: FutureWarning: pandas.util.testing is deprecated. Use the functions in the public API at pandas.testing instead.\n",
            "  import pandas.util.testing as tm\n"
          ],
          "name": "stderr"
        },
        {
          "output_type": "execute_result",
          "data": {
            "text/html": [
              "<div>\n",
              "<style scoped>\n",
              "    .dataframe tbody tr th:only-of-type {\n",
              "        vertical-align: middle;\n",
              "    }\n",
              "\n",
              "    .dataframe tbody tr th {\n",
              "        vertical-align: top;\n",
              "    }\n",
              "\n",
              "    .dataframe thead th {\n",
              "        text-align: right;\n",
              "    }\n",
              "</style>\n",
              "<table border=\"1\" class=\"dataframe\">\n",
              "  <thead>\n",
              "    <tr style=\"text-align: right;\">\n",
              "      <th></th>\n",
              "      <th>Index</th>\n",
              "      <th>HCW without COVID-19</th>\n",
              "      <th>HCW with COVID-19</th>\n",
              "    </tr>\n",
              "  </thead>\n",
              "  <tbody>\n",
              "    <tr>\n",
              "      <th>0</th>\n",
              "      <td>0</td>\n",
              "      <td>518</td>\n",
              "      <td>83</td>\n",
              "    </tr>\n",
              "    <tr>\n",
              "      <th>1</th>\n",
              "      <td>1</td>\n",
              "      <td>477</td>\n",
              "      <td>75</td>\n",
              "    </tr>\n",
              "    <tr>\n",
              "      <th>2</th>\n",
              "      <td>2</td>\n",
              "      <td>108</td>\n",
              "      <td>17</td>\n",
              "    </tr>\n",
              "    <tr>\n",
              "      <th>3</th>\n",
              "      <td>3</td>\n",
              "      <td>40</td>\n",
              "      <td>5</td>\n",
              "    </tr>\n",
              "  </tbody>\n",
              "</table>\n",
              "</div>"
            ],
            "text/plain": [
              "   Index  HCW without COVID-19  HCW with COVID-19\n",
              "0      0                   518                 83\n",
              "1      1                   477                 75\n",
              "2      2                   108                 17\n",
              "3      3                    40                  5"
            ]
          },
          "metadata": {
            "tags": []
          },
          "execution_count": 9
        }
      ]
    },
    {
      "cell_type": "code",
      "metadata": {
        "colab": {
          "base_uri": "https://localhost:8080/",
          "height": 198
        },
        "id": "j9yhp8p0yal0",
        "outputId": "b503a983-d39b-465c-f8f1-7c9a85a19e99"
      },
      "source": [
        "df = df.set_index('Index')\n",
        "# output\n",
        "df.head()"
      ],
      "execution_count": 10,
      "outputs": [
        {
          "output_type": "execute_result",
          "data": {
            "text/html": [
              "<div>\n",
              "<style scoped>\n",
              "    .dataframe tbody tr th:only-of-type {\n",
              "        vertical-align: middle;\n",
              "    }\n",
              "\n",
              "    .dataframe tbody tr th {\n",
              "        vertical-align: top;\n",
              "    }\n",
              "\n",
              "    .dataframe thead th {\n",
              "        text-align: right;\n",
              "    }\n",
              "</style>\n",
              "<table border=\"1\" class=\"dataframe\">\n",
              "  <thead>\n",
              "    <tr style=\"text-align: right;\">\n",
              "      <th></th>\n",
              "      <th>HCW without COVID-19</th>\n",
              "      <th>HCW with COVID-19</th>\n",
              "    </tr>\n",
              "    <tr>\n",
              "      <th>Index</th>\n",
              "      <th></th>\n",
              "      <th></th>\n",
              "    </tr>\n",
              "  </thead>\n",
              "  <tbody>\n",
              "    <tr>\n",
              "      <th>0</th>\n",
              "      <td>518</td>\n",
              "      <td>83</td>\n",
              "    </tr>\n",
              "    <tr>\n",
              "      <th>1</th>\n",
              "      <td>477</td>\n",
              "      <td>75</td>\n",
              "    </tr>\n",
              "    <tr>\n",
              "      <th>2</th>\n",
              "      <td>108</td>\n",
              "      <td>17</td>\n",
              "    </tr>\n",
              "    <tr>\n",
              "      <th>3</th>\n",
              "      <td>40</td>\n",
              "      <td>5</td>\n",
              "    </tr>\n",
              "  </tbody>\n",
              "</table>\n",
              "</div>"
            ],
            "text/plain": [
              "       HCW without COVID-19  HCW with COVID-19\n",
              "Index                                         \n",
              "0                       518                 83\n",
              "1                       477                 75\n",
              "2                       108                 17\n",
              "3                        40                  5"
            ]
          },
          "metadata": {
            "tags": []
          },
          "execution_count": 10
        }
      ]
    },
    {
      "cell_type": "code",
      "metadata": {
        "colab": {
          "base_uri": "https://localhost:8080/"
        },
        "id": "gF6jaHz0yxoh",
        "outputId": "75c20e4f-36e3-4d25-ecab-da831659441b"
      },
      "source": [
        "# run chi-square test for independence\n",
        "res = stat()\n",
        "res.chisq(df=df)\n",
        "# output\n",
        "print(res.summary)\n",
        "# corrected for the Yates’ continuity"
      ],
      "execution_count": 12,
      "outputs": [
        {
          "output_type": "stream",
          "text": [
            "\n",
            "Chi-squared test for independence\n",
            "\n",
            "Test              Df    Chi-square    P-value\n",
            "--------------  ----  ------------  ---------\n",
            "Pearson            3      0.259814   0.9674\n",
            "Log-likelihood     3      0.273289   0.964971\n",
            "\n"
          ],
          "name": "stdout"
        }
      ]
    },
    {
      "cell_type": "code",
      "metadata": {
        "colab": {
          "base_uri": "https://localhost:8080/"
        },
        "id": "lFZEiSXQy0Ri",
        "outputId": "11a8cf02-8790-4f41-9b7d-a32d10556dbc"
      },
      "source": [
        "print(res.expected_df)"
      ],
      "execution_count": 13,
      "outputs": [
        {
          "output_type": "stream",
          "text": [
            "\n",
            "Expected frequency counts\n",
            "\n",
            "      HCW without COVID-19    HCW with COVID-19\n",
            "--  ----------------------  -------------------\n",
            " 0                519.231              81.7687\n",
            " 1                476.898              75.102\n",
            " 2                107.993              17.0068\n",
            " 3                 38.8776              6.12245\n",
            "\n"
          ],
          "name": "stdout"
        }
      ]
    },
    {
      "cell_type": "code",
      "metadata": {
        "colab": {
          "base_uri": "https://localhost:8080/"
        },
        "id": "LbCK2bmuy9Jo",
        "outputId": "c3a02ffc-c19e-48aa-f693-dcd5c6445e23"
      },
      "source": [
        "# using chi2_contingency function from scipy package\n",
        "import numpy as np\n",
        "from scipy.stats import chi2_contingency \n",
        "# using Pearson’s chi-squared statistic\n",
        "# corrected for the Yates’ continuity\n",
        "observed = np.array([[518, 83], [477, 75], [108, 17], [40, 5]])\n",
        "chi_val, p_val, dof, expected =  chi2_contingency(observed)\n",
        "chi_val, p_val, dof, expected"
      ],
      "execution_count": 14,
      "outputs": [
        {
          "output_type": "execute_result",
          "data": {
            "text/plain": [
              "(0.25981355275727247,\n",
              " 0.9674003410009473,\n",
              " 3,\n",
              " array([[519.23129252,  81.76870748],\n",
              "        [476.89795918,  75.10204082],\n",
              "        [107.99319728,  17.00680272],\n",
              "        [ 38.87755102,   6.12244898]]))"
            ]
          },
          "metadata": {
            "tags": []
          },
          "execution_count": 14
        }
      ]
    },
    {
      "cell_type": "code",
      "metadata": {
        "colab": {
          "base_uri": "https://localhost:8080/",
          "height": 108
        },
        "id": "IoL_ocSNzdyy",
        "outputId": "d6ecb5ac-1ea8-4c56-c9d5-f4d99a7da8d7"
      },
      "source": [
        "# load example dataset\n",
        "df=pd.read_csv('/content/drive/MyDrive/Colab Notebooks/table 2.csv', header=0)\n",
        "df.head()"
      ],
      "execution_count": 15,
      "outputs": [
        {
          "output_type": "execute_result",
          "data": {
            "text/html": [
              "<div>\n",
              "<style scoped>\n",
              "    .dataframe tbody tr th:only-of-type {\n",
              "        vertical-align: middle;\n",
              "    }\n",
              "\n",
              "    .dataframe tbody tr th {\n",
              "        vertical-align: top;\n",
              "    }\n",
              "\n",
              "    .dataframe thead th {\n",
              "        text-align: right;\n",
              "    }\n",
              "</style>\n",
              "<table border=\"1\" class=\"dataframe\">\n",
              "  <thead>\n",
              "    <tr style=\"text-align: right;\">\n",
              "      <th></th>\n",
              "      <th>Index</th>\n",
              "      <th>HCW without COVID-19</th>\n",
              "      <th>HCW with COVID-19</th>\n",
              "    </tr>\n",
              "  </thead>\n",
              "  <tbody>\n",
              "    <tr>\n",
              "      <th>0</th>\n",
              "      <td>0</td>\n",
              "      <td>451</td>\n",
              "      <td>71</td>\n",
              "    </tr>\n",
              "    <tr>\n",
              "      <th>1</th>\n",
              "      <td>1</td>\n",
              "      <td>692</td>\n",
              "      <td>109</td>\n",
              "    </tr>\n",
              "  </tbody>\n",
              "</table>\n",
              "</div>"
            ],
            "text/plain": [
              "   Index  HCW without COVID-19  HCW with COVID-19\n",
              "0      0                   451                 71\n",
              "1      1                   692                109"
            ]
          },
          "metadata": {
            "tags": []
          },
          "execution_count": 15
        }
      ]
    },
    {
      "cell_type": "code",
      "metadata": {
        "colab": {
          "base_uri": "https://localhost:8080/",
          "height": 138
        },
        "id": "hCr6cyXjzlTQ",
        "outputId": "019c0560-aa71-475f-b6e4-31fe7b104959"
      },
      "source": [
        "df = df.set_index('Index')\n",
        "# output\n",
        "df.head()"
      ],
      "execution_count": 16,
      "outputs": [
        {
          "output_type": "execute_result",
          "data": {
            "text/html": [
              "<div>\n",
              "<style scoped>\n",
              "    .dataframe tbody tr th:only-of-type {\n",
              "        vertical-align: middle;\n",
              "    }\n",
              "\n",
              "    .dataframe tbody tr th {\n",
              "        vertical-align: top;\n",
              "    }\n",
              "\n",
              "    .dataframe thead th {\n",
              "        text-align: right;\n",
              "    }\n",
              "</style>\n",
              "<table border=\"1\" class=\"dataframe\">\n",
              "  <thead>\n",
              "    <tr style=\"text-align: right;\">\n",
              "      <th></th>\n",
              "      <th>HCW without COVID-19</th>\n",
              "      <th>HCW with COVID-19</th>\n",
              "    </tr>\n",
              "    <tr>\n",
              "      <th>Index</th>\n",
              "      <th></th>\n",
              "      <th></th>\n",
              "    </tr>\n",
              "  </thead>\n",
              "  <tbody>\n",
              "    <tr>\n",
              "      <th>0</th>\n",
              "      <td>451</td>\n",
              "      <td>71</td>\n",
              "    </tr>\n",
              "    <tr>\n",
              "      <th>1</th>\n",
              "      <td>692</td>\n",
              "      <td>109</td>\n",
              "    </tr>\n",
              "  </tbody>\n",
              "</table>\n",
              "</div>"
            ],
            "text/plain": [
              "       HCW without COVID-19  HCW with COVID-19\n",
              "Index                                         \n",
              "0                       451                 71\n",
              "1                       692                109"
            ]
          },
          "metadata": {
            "tags": []
          },
          "execution_count": 16
        }
      ]
    },
    {
      "cell_type": "code",
      "metadata": {
        "colab": {
          "base_uri": "https://localhost:8080/"
        },
        "id": "pr8T1UWXzrZT",
        "outputId": "35150c8e-3002-4e89-a027-06015deea49c"
      },
      "source": [
        "# run chi-square test for independence\n",
        "res = stat()\n",
        "res.chisq(df=df)\n",
        "# output\n",
        "print(res.summary)\n",
        "# corrected for the Yates’ continuity"
      ],
      "execution_count": 17,
      "outputs": [
        {
          "output_type": "stream",
          "text": [
            "\n",
            "Chi-squared test for independence\n",
            "\n",
            "Test              Df    Chi-square    P-value\n",
            "--------------  ----  ------------  ---------\n",
            "Pearson            1    0.00619158   0.937282\n",
            "Log-likelihood     1    0.00618752   0.937302\n",
            "\n"
          ],
          "name": "stdout"
        }
      ]
    },
    {
      "cell_type": "code",
      "metadata": {
        "colab": {
          "base_uri": "https://localhost:8080/"
        },
        "id": "oBcHbNx_zvzY",
        "outputId": "9aa5a919-347b-4001-a535-3cdfc9c4857c"
      },
      "source": [
        "print(res.expected_df)"
      ],
      "execution_count": 18,
      "outputs": [
        {
          "output_type": "stream",
          "text": [
            "\n",
            "Expected frequency counts\n",
            "\n",
            "      HCW without COVID-19    HCW with COVID-19\n",
            "--  ----------------------  -------------------\n",
            " 0                  450.98              71.0204\n",
            " 1                  692.02             108.98\n",
            "\n"
          ],
          "name": "stdout"
        }
      ]
    },
    {
      "cell_type": "code",
      "metadata": {
        "colab": {
          "base_uri": "https://localhost:8080/"
        },
        "id": "HVk8R6hRzy_o",
        "outputId": "8a1829d9-0f63-4359-e5e1-b7085066e9c1"
      },
      "source": [
        "# using chi2_contingency function from scipy package\n",
        "import numpy as np\n",
        "from scipy.stats import chi2_contingency \n",
        "# using Pearson’s chi-squared statistic\n",
        "# corrected for the Yates’ continuity\n",
        "observed = np.array([[451, 71], [692, 109]])\n",
        "chi_val, p_val, dof, expected =  chi2_contingency(observed)\n",
        "chi_val, p_val, dof, expected"
      ],
      "execution_count": 19,
      "outputs": [
        {
          "output_type": "execute_result",
          "data": {
            "text/plain": [
              "(0.006191577914926582,\n",
              " 0.9372819197730906,\n",
              " 1,\n",
              " array([[450.97959184,  71.02040816],\n",
              "        [692.02040816, 108.97959184]]))"
            ]
          },
          "metadata": {
            "tags": []
          },
          "execution_count": 19
        }
      ]
    },
    {
      "cell_type": "code",
      "metadata": {
        "colab": {
          "base_uri": "https://localhost:8080/",
          "height": 198
        },
        "id": "_S5FpW4tFnQT",
        "outputId": "53759d5b-0e1c-4c0a-b8db-3c83c97abe04"
      },
      "source": [
        "# load example dataset\n",
        "df=pd.read_csv('/content/drive/MyDrive/Colab Notebooks/table 3.csv', header=0)\n",
        "df.head()"
      ],
      "execution_count": 21,
      "outputs": [
        {
          "output_type": "execute_result",
          "data": {
            "text/html": [
              "<div>\n",
              "<style scoped>\n",
              "    .dataframe tbody tr th:only-of-type {\n",
              "        vertical-align: middle;\n",
              "    }\n",
              "\n",
              "    .dataframe tbody tr th {\n",
              "        vertical-align: top;\n",
              "    }\n",
              "\n",
              "    .dataframe thead th {\n",
              "        text-align: right;\n",
              "    }\n",
              "</style>\n",
              "<table border=\"1\" class=\"dataframe\">\n",
              "  <thead>\n",
              "    <tr style=\"text-align: right;\">\n",
              "      <th></th>\n",
              "      <th>Index</th>\n",
              "      <th>HCW without COVID-19</th>\n",
              "      <th>HCW with COVID-19</th>\n",
              "    </tr>\n",
              "  </thead>\n",
              "  <tbody>\n",
              "    <tr>\n",
              "      <th>0</th>\n",
              "      <td>0</td>\n",
              "      <td>362</td>\n",
              "      <td>57</td>\n",
              "    </tr>\n",
              "    <tr>\n",
              "      <th>1</th>\n",
              "      <td>1</td>\n",
              "      <td>502</td>\n",
              "      <td>79</td>\n",
              "    </tr>\n",
              "    <tr>\n",
              "      <th>2</th>\n",
              "      <td>2</td>\n",
              "      <td>4</td>\n",
              "      <td>8</td>\n",
              "    </tr>\n",
              "    <tr>\n",
              "      <th>3</th>\n",
              "      <td>3</td>\n",
              "      <td>76</td>\n",
              "      <td>12</td>\n",
              "    </tr>\n",
              "    <tr>\n",
              "      <th>4</th>\n",
              "      <td>4</td>\n",
              "      <td>199</td>\n",
              "      <td>24</td>\n",
              "    </tr>\n",
              "  </tbody>\n",
              "</table>\n",
              "</div>"
            ],
            "text/plain": [
              "   Index  HCW without COVID-19  HCW with COVID-19\n",
              "0      0                   362                 57\n",
              "1      1                   502                 79\n",
              "2      2                     4                  8\n",
              "3      3                    76                 12\n",
              "4      4                   199                 24"
            ]
          },
          "metadata": {
            "tags": []
          },
          "execution_count": 21
        }
      ]
    },
    {
      "cell_type": "code",
      "metadata": {
        "colab": {
          "base_uri": "https://localhost:8080/",
          "height": 228
        },
        "id": "rjcm8qOnF1A7",
        "outputId": "35471ceb-ac02-4585-b11c-4e63a7a3ff37"
      },
      "source": [
        "df = df.set_index('Index')\n",
        "# output\n",
        "df.head()"
      ],
      "execution_count": 22,
      "outputs": [
        {
          "output_type": "execute_result",
          "data": {
            "text/html": [
              "<div>\n",
              "<style scoped>\n",
              "    .dataframe tbody tr th:only-of-type {\n",
              "        vertical-align: middle;\n",
              "    }\n",
              "\n",
              "    .dataframe tbody tr th {\n",
              "        vertical-align: top;\n",
              "    }\n",
              "\n",
              "    .dataframe thead th {\n",
              "        text-align: right;\n",
              "    }\n",
              "</style>\n",
              "<table border=\"1\" class=\"dataframe\">\n",
              "  <thead>\n",
              "    <tr style=\"text-align: right;\">\n",
              "      <th></th>\n",
              "      <th>HCW without COVID-19</th>\n",
              "      <th>HCW with COVID-19</th>\n",
              "    </tr>\n",
              "    <tr>\n",
              "      <th>Index</th>\n",
              "      <th></th>\n",
              "      <th></th>\n",
              "    </tr>\n",
              "  </thead>\n",
              "  <tbody>\n",
              "    <tr>\n",
              "      <th>0</th>\n",
              "      <td>362</td>\n",
              "      <td>57</td>\n",
              "    </tr>\n",
              "    <tr>\n",
              "      <th>1</th>\n",
              "      <td>502</td>\n",
              "      <td>79</td>\n",
              "    </tr>\n",
              "    <tr>\n",
              "      <th>2</th>\n",
              "      <td>4</td>\n",
              "      <td>8</td>\n",
              "    </tr>\n",
              "    <tr>\n",
              "      <th>3</th>\n",
              "      <td>76</td>\n",
              "      <td>12</td>\n",
              "    </tr>\n",
              "    <tr>\n",
              "      <th>4</th>\n",
              "      <td>199</td>\n",
              "      <td>24</td>\n",
              "    </tr>\n",
              "  </tbody>\n",
              "</table>\n",
              "</div>"
            ],
            "text/plain": [
              "       HCW without COVID-19  HCW with COVID-19\n",
              "Index                                         \n",
              "0                       362                 57\n",
              "1                       502                 79\n",
              "2                         4                  8\n",
              "3                        76                 12\n",
              "4                       199                 24"
            ]
          },
          "metadata": {
            "tags": []
          },
          "execution_count": 22
        }
      ]
    },
    {
      "cell_type": "code",
      "metadata": {
        "colab": {
          "base_uri": "https://localhost:8080/"
        },
        "id": "H9q4QMrkF4Vu",
        "outputId": "01e369ff-e237-402d-8c24-d556bd8634d6"
      },
      "source": [
        "# run chi-square test for independence\n",
        "res = stat()\n",
        "res.chisq(df=df)\n",
        "# output\n",
        "print(res.summary)\n",
        "# corrected for the Yates’ continuity"
      ],
      "execution_count": 24,
      "outputs": [
        {
          "output_type": "stream",
          "text": [
            "\n",
            "Chi-squared test for independence\n",
            "\n",
            "Test              Df    Chi-square      P-value\n",
            "--------------  ----  ------------  -----------\n",
            "Pearson            4       30.2769  4.2984e-06\n",
            "Log-likelihood     4       19.4436  0.000642914\n",
            "\n"
          ],
          "name": "stdout"
        }
      ]
    },
    {
      "cell_type": "code",
      "metadata": {
        "colab": {
          "base_uri": "https://localhost:8080/"
        },
        "id": "cYQ2xpp3F_Wb",
        "outputId": "1b6bab6c-1938-4873-affe-57ca4624c5e7"
      },
      "source": [
        "print(res.expected_df)"
      ],
      "execution_count": 25,
      "outputs": [
        {
          "output_type": "stream",
          "text": [
            "\n",
            "Expected frequency counts\n",
            "\n",
            "      HCW without COVID-19    HCW with COVID-19\n",
            "--  ----------------------  -------------------\n",
            " 0                361.993              57.0068\n",
            " 1                501.952              79.0476\n",
            " 2                 10.3673              1.63265\n",
            " 3                 76.0272             11.9728\n",
            " 4                192.66               30.3401\n",
            "\n"
          ],
          "name": "stdout"
        }
      ]
    },
    {
      "cell_type": "code",
      "metadata": {
        "colab": {
          "base_uri": "https://localhost:8080/"
        },
        "id": "JHF4nmpuGEzT",
        "outputId": "8b7396de-fe5f-4f1f-9b35-2a1129afe20a"
      },
      "source": [
        "# using chi2_contingency function from scipy package\n",
        "import numpy as np\n",
        "from scipy.stats import chi2_contingency \n",
        "# using Pearson’s chi-squared statistic\n",
        "# corrected for the Yates’ continuity\n",
        "observed = np.array([[362, 57], [502, 79], [4, 8], [76, 12], [199, 24]])\n",
        "chi_val, p_val, dof, expected =  chi2_contingency(observed)\n",
        "chi_val, p_val, dof, expected"
      ],
      "execution_count": 26,
      "outputs": [
        {
          "output_type": "execute_result",
          "data": {
            "text/plain": [
              "(30.276946232306468,\n",
              " 4.298402739269979e-06,\n",
              " 4,\n",
              " array([[361.99319728,  57.00680272],\n",
              "        [501.95238095,  79.04761905],\n",
              "        [ 10.36734694,   1.63265306],\n",
              "        [ 76.02721088,  11.97278912],\n",
              "        [192.65986395,  30.34013605]]))"
            ]
          },
          "metadata": {
            "tags": []
          },
          "execution_count": 26
        }
      ]
    }
  ]
}