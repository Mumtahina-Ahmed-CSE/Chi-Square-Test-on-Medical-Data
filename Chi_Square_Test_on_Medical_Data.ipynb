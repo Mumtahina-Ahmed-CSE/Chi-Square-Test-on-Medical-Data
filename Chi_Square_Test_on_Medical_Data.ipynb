{
  "nbformat": 4,
  "nbformat_minor": 0,
  "metadata": {
    "colab": {
      "name": "Chi Square Test on Medical Data",
      "provenance": [],
      "authorship_tag": "ABX9TyMnyqOvS/lNZhMsKg6PjimO",
      "include_colab_link": true
    },
    "kernelspec": {
      "name": "python3",
      "display_name": "Python 3"
    },
    "language_info": {
      "name": "python"
    }
  },
  "cells": [
    {
      "cell_type": "markdown",
      "metadata": {
        "id": "view-in-github",
        "colab_type": "text"
      },
      "source": [
        "<a href=\"https://colab.research.google.com/github/Mumtahina-Ahmed-CSE/Chi-Square-Test-on-Medical-Data/blob/main/Chi_Square_Test_on_Medical_Data.ipynb\" target=\"_parent\"><img src=\"https://colab.research.google.com/assets/colab-badge.svg\" alt=\"Open In Colab\"/></a>"
      ]
    },
    {
      "cell_type": "code",
      "metadata": {
        "colab": {
          "base_uri": "https://localhost:8080/"
        },
        "id": "awu20ieB7EJx",
        "outputId": "7da84df7-5e82-45ea-95dd-c8cfa3a1178f"
      },
      "source": [
        "from google.colab import drive\n",
        "drive.mount('/content/drive')"
      ],
      "execution_count": 1,
      "outputs": [
        {
          "output_type": "stream",
          "text": [
            "Mounted at /content/drive\n"
          ],
          "name": "stdout"
        }
      ]
    },
    {
      "cell_type": "code",
      "metadata": {
        "colab": {
          "base_uri": "https://localhost:8080/"
        },
        "id": "q3Z34qOk7qJC",
        "outputId": "c5b79ecc-1819-4862-9e02-646aedb5329e"
      },
      "source": [
        "!pip install bioinfokit"
      ],
      "execution_count": 2,
      "outputs": [
        {
          "output_type": "stream",
          "text": [
            "Collecting bioinfokit\n",
            "\u001b[?25l  Downloading https://files.pythonhosted.org/packages/33/23/e28f528e56cd34c9b4f29ae7fd1dce1fcc40d88abcf551d34651900f8be5/bioinfokit-2.0.2.tar.gz (82kB)\n",
            "\r\u001b[K     |████                            | 10kB 11.6MB/s eta 0:00:01\r\u001b[K     |████████                        | 20kB 16.2MB/s eta 0:00:01\r\u001b[K     |████████████                    | 30kB 9.2MB/s eta 0:00:01\r\u001b[K     |███████████████▉                | 40kB 8.0MB/s eta 0:00:01\r\u001b[K     |███████████████████▉            | 51kB 4.6MB/s eta 0:00:01\r\u001b[K     |███████████████████████▉        | 61kB 5.3MB/s eta 0:00:01\r\u001b[K     |███████████████████████████▊    | 71kB 5.0MB/s eta 0:00:01\r\u001b[K     |███████████████████████████████▊| 81kB 5.5MB/s eta 0:00:01\r\u001b[K     |████████████████████████████████| 92kB 3.6MB/s \n",
            "\u001b[?25hRequirement already satisfied: pandas in /usr/local/lib/python3.7/dist-packages (from bioinfokit) (1.1.5)\n",
            "Requirement already satisfied: numpy in /usr/local/lib/python3.7/dist-packages (from bioinfokit) (1.19.5)\n",
            "Requirement already satisfied: matplotlib in /usr/local/lib/python3.7/dist-packages (from bioinfokit) (3.2.2)\n",
            "Requirement already satisfied: scipy in /usr/local/lib/python3.7/dist-packages (from bioinfokit) (1.4.1)\n",
            "Requirement already satisfied: scikit-learn in /usr/local/lib/python3.7/dist-packages (from bioinfokit) (0.22.2.post1)\n",
            "Requirement already satisfied: seaborn in /usr/local/lib/python3.7/dist-packages (from bioinfokit) (0.11.1)\n",
            "Requirement already satisfied: matplotlib-venn in /usr/local/lib/python3.7/dist-packages (from bioinfokit) (0.11.6)\n",
            "Requirement already satisfied: tabulate in /usr/local/lib/python3.7/dist-packages (from bioinfokit) (0.8.9)\n",
            "Requirement already satisfied: statsmodels in /usr/local/lib/python3.7/dist-packages (from bioinfokit) (0.10.2)\n",
            "Collecting textwrap3\n",
            "  Downloading https://files.pythonhosted.org/packages/77/9c/a53e561d496ee5866bbeea4d3a850b3b545ed854f8a21007c1e0d872e94d/textwrap3-0.9.2-py2.py3-none-any.whl\n",
            "Collecting adjustText\n",
            "  Downloading https://files.pythonhosted.org/packages/9e/15/4157718bf323fd5f5b81c891c660d0f388e042d2689a558bf1389632dc44/adjustText-0.7.3.tar.gz\n",
            "Requirement already satisfied: pytz>=2017.2 in /usr/local/lib/python3.7/dist-packages (from pandas->bioinfokit) (2018.9)\n",
            "Requirement already satisfied: python-dateutil>=2.7.3 in /usr/local/lib/python3.7/dist-packages (from pandas->bioinfokit) (2.8.1)\n",
            "Requirement already satisfied: kiwisolver>=1.0.1 in /usr/local/lib/python3.7/dist-packages (from matplotlib->bioinfokit) (1.3.1)\n",
            "Requirement already satisfied: cycler>=0.10 in /usr/local/lib/python3.7/dist-packages (from matplotlib->bioinfokit) (0.10.0)\n",
            "Requirement already satisfied: pyparsing!=2.0.4,!=2.1.2,!=2.1.6,>=2.0.1 in /usr/local/lib/python3.7/dist-packages (from matplotlib->bioinfokit) (2.4.7)\n",
            "Requirement already satisfied: joblib>=0.11 in /usr/local/lib/python3.7/dist-packages (from scikit-learn->bioinfokit) (1.0.1)\n",
            "Requirement already satisfied: patsy>=0.4.0 in /usr/local/lib/python3.7/dist-packages (from statsmodels->bioinfokit) (0.5.1)\n",
            "Requirement already satisfied: six>=1.5 in /usr/local/lib/python3.7/dist-packages (from python-dateutil>=2.7.3->pandas->bioinfokit) (1.15.0)\n",
            "Building wheels for collected packages: bioinfokit, adjustText\n",
            "  Building wheel for bioinfokit (setup.py) ... \u001b[?25l\u001b[?25hdone\n",
            "  Created wheel for bioinfokit: filename=bioinfokit-2.0.2-cp37-none-any.whl size=56174 sha256=331f9f0daa45fb54a4262eaa414030cbbb64085a68d56b8ebca8c16b1691a83f\n",
            "  Stored in directory: /root/.cache/pip/wheels/8e/3c/1d/369f28890a2139410deef43f69444d49bea2c37d3c3904a0fe\n",
            "  Building wheel for adjustText (setup.py) ... \u001b[?25l\u001b[?25hdone\n",
            "  Created wheel for adjustText: filename=adjustText-0.7.3-cp37-none-any.whl size=7100 sha256=e06d7188eaa44c7a9055f8d1a175c5951624b028311854651c10980db2ea47ba\n",
            "  Stored in directory: /root/.cache/pip/wheels/41/95/74/7d347e136d672f8bc28e937032bc92baf4f80856763a7e7b72\n",
            "Successfully built bioinfokit adjustText\n",
            "Installing collected packages: textwrap3, adjustText, bioinfokit\n",
            "Successfully installed adjustText-0.7.3 bioinfokit-2.0.2 textwrap3-0.9.2\n"
          ],
          "name": "stdout"
        }
      ]
    },
    {
      "cell_type": "code",
      "metadata": {
        "colab": {
          "base_uri": "https://localhost:8080/",
          "height": 168
        },
        "id": "zT6C9BtS7v26",
        "outputId": "dc603577-7daa-4db9-8320-5aaa459b280d"
      },
      "source": [
        "import pandas as pd\n",
        "# I am using interactive python interpreter (Python 3.7.4)\n",
        "from bioinfokit.analys import stat, get_data\n",
        "# load example dataset\n",
        "df=pd.read_csv('/content/drive/MyDrive/Colab Notebooks/Table1.csv', header=0)\n",
        "df.head()"
      ],
      "execution_count": 4,
      "outputs": [
        {
          "output_type": "execute_result",
          "data": {
            "text/html": [
              "<div>\n",
              "<style scoped>\n",
              "    .dataframe tbody tr th:only-of-type {\n",
              "        vertical-align: middle;\n",
              "    }\n",
              "\n",
              "    .dataframe tbody tr th {\n",
              "        vertical-align: top;\n",
              "    }\n",
              "\n",
              "    .dataframe thead th {\n",
              "        text-align: right;\n",
              "    }\n",
              "</style>\n",
              "<table border=\"1\" class=\"dataframe\">\n",
              "  <thead>\n",
              "    <tr style=\"text-align: right;\">\n",
              "      <th></th>\n",
              "      <th>Index</th>\n",
              "      <th>HCW without COVID-19</th>\n",
              "      <th>HCW with COVID-19</th>\n",
              "    </tr>\n",
              "  </thead>\n",
              "  <tbody>\n",
              "    <tr>\n",
              "      <th>0</th>\n",
              "      <td>0</td>\n",
              "      <td>498</td>\n",
              "      <td>83</td>\n",
              "    </tr>\n",
              "    <tr>\n",
              "      <th>1</th>\n",
              "      <td>1</td>\n",
              "      <td>479</td>\n",
              "      <td>67</td>\n",
              "    </tr>\n",
              "    <tr>\n",
              "      <th>2</th>\n",
              "      <td>2</td>\n",
              "      <td>115</td>\n",
              "      <td>24</td>\n",
              "    </tr>\n",
              "    <tr>\n",
              "      <th>3</th>\n",
              "      <td>3</td>\n",
              "      <td>51</td>\n",
              "      <td>6</td>\n",
              "    </tr>\n",
              "  </tbody>\n",
              "</table>\n",
              "</div>"
            ],
            "text/plain": [
              "   Index  HCW without COVID-19  HCW with COVID-19\n",
              "0      0                   498                 83\n",
              "1      1                   479                 67\n",
              "2      2                   115                 24\n",
              "3      3                    51                  6"
            ]
          },
          "metadata": {
            "tags": []
          },
          "execution_count": 4
        }
      ]
    },
    {
      "cell_type": "code",
      "metadata": {
        "colab": {
          "base_uri": "https://localhost:8080/",
          "height": 198
        },
        "id": "kcBzjQY378Ec",
        "outputId": "7f00ab7a-fd60-4aab-9ffc-8c29441f5164"
      },
      "source": [
        "df = df.set_index('Index')\n",
        "# output\n",
        "df.head()"
      ],
      "execution_count": 5,
      "outputs": [
        {
          "output_type": "execute_result",
          "data": {
            "text/html": [
              "<div>\n",
              "<style scoped>\n",
              "    .dataframe tbody tr th:only-of-type {\n",
              "        vertical-align: middle;\n",
              "    }\n",
              "\n",
              "    .dataframe tbody tr th {\n",
              "        vertical-align: top;\n",
              "    }\n",
              "\n",
              "    .dataframe thead th {\n",
              "        text-align: right;\n",
              "    }\n",
              "</style>\n",
              "<table border=\"1\" class=\"dataframe\">\n",
              "  <thead>\n",
              "    <tr style=\"text-align: right;\">\n",
              "      <th></th>\n",
              "      <th>HCW without COVID-19</th>\n",
              "      <th>HCW with COVID-19</th>\n",
              "    </tr>\n",
              "    <tr>\n",
              "      <th>Index</th>\n",
              "      <th></th>\n",
              "      <th></th>\n",
              "    </tr>\n",
              "  </thead>\n",
              "  <tbody>\n",
              "    <tr>\n",
              "      <th>0</th>\n",
              "      <td>498</td>\n",
              "      <td>83</td>\n",
              "    </tr>\n",
              "    <tr>\n",
              "      <th>1</th>\n",
              "      <td>479</td>\n",
              "      <td>67</td>\n",
              "    </tr>\n",
              "    <tr>\n",
              "      <th>2</th>\n",
              "      <td>115</td>\n",
              "      <td>24</td>\n",
              "    </tr>\n",
              "    <tr>\n",
              "      <th>3</th>\n",
              "      <td>51</td>\n",
              "      <td>6</td>\n",
              "    </tr>\n",
              "  </tbody>\n",
              "</table>\n",
              "</div>"
            ],
            "text/plain": [
              "       HCW without COVID-19  HCW with COVID-19\n",
              "Index                                         \n",
              "0                       498                 83\n",
              "1                       479                 67\n",
              "2                       115                 24\n",
              "3                        51                  6"
            ]
          },
          "metadata": {
            "tags": []
          },
          "execution_count": 5
        }
      ]
    },
    {
      "cell_type": "code",
      "metadata": {
        "colab": {
          "base_uri": "https://localhost:8080/"
        },
        "id": "cZV4RoRq8DBp",
        "outputId": "436da5c1-fdbe-4f37-fa90-3b68c581b759"
      },
      "source": [
        "# run chi-square test for independence\n",
        "res = stat()\n",
        "res.chisq(df=df)\n",
        "# output\n",
        "print(res.summary)\n",
        "# corrected for the Yates’ continuity"
      ],
      "execution_count": 6,
      "outputs": [
        {
          "output_type": "stream",
          "text": [
            "\n",
            "Chi-squared test for independence\n",
            "\n",
            "Test              Df    Chi-square    P-value\n",
            "--------------  ----  ------------  ---------\n",
            "Pearson            3       3.10032   0.376415\n",
            "Log-likelihood     3       3.04893   0.384142\n",
            "\n"
          ],
          "name": "stdout"
        }
      ]
    },
    {
      "cell_type": "code",
      "metadata": {
        "colab": {
          "base_uri": "https://localhost:8080/"
        },
        "id": "aj9cKCoS8IZB",
        "outputId": "7296cc65-ab7c-4625-9fb4-ddb2a5d8b20e"
      },
      "source": [
        "print(res.expected_df)"
      ],
      "execution_count": 7,
      "outputs": [
        {
          "output_type": "stream",
          "text": [
            "\n",
            "Expected frequency counts\n",
            "\n",
            "      HCW without COVID-19    HCW with COVID-19\n",
            "--  ----------------------  -------------------\n",
            " 0                501.952               79.0476\n",
            " 1                471.714               74.2857\n",
            " 2                120.088               18.9116\n",
            " 3                 49.2449               7.7551\n",
            "\n"
          ],
          "name": "stdout"
        }
      ]
    },
    {
      "cell_type": "code",
      "metadata": {
        "colab": {
          "base_uri": "https://localhost:8080/"
        },
        "id": "TEMhnhRa8Ne9",
        "outputId": "96e2a4c2-6c8e-434e-bbf3-35e97894bc7a"
      },
      "source": [
        "# using chi2_contingency function from scipy package\n",
        "import numpy as np\n",
        "from scipy.stats import chi2_contingency \n",
        "# using Pearson’s chi-squared statistic\n",
        "# corrected for the Yates’ continuity\n",
        "observed = np.array([[498, 83], [479, 67], [115, 24], [51, 6]])\n",
        "chi_val, p_val, dof, expected =  chi2_contingency(observed)\n",
        "chi_val, p_val, dof, expected"
      ],
      "execution_count": 8,
      "outputs": [
        {
          "output_type": "execute_result",
          "data": {
            "text/plain": [
              "(3.1003172437344215,\n",
              " 0.3764153547049384,\n",
              " 3,\n",
              " array([[501.95238095,  79.04761905],\n",
              "        [471.71428571,  74.28571429],\n",
              "        [120.08843537,  18.91156463],\n",
              "        [ 49.24489796,   7.75510204]]))"
            ]
          },
          "metadata": {
            "tags": []
          },
          "execution_count": 8
        }
      ]
    },
    {
      "cell_type": "code",
      "metadata": {
        "colab": {
          "base_uri": "https://localhost:8080/",
          "height": 108
        },
        "id": "pltWa3ep8zIP",
        "outputId": "a75ef53c-6fda-4ced-9b56-9a92f7fe1001"
      },
      "source": [
        "import pandas as pd\n",
        "# I am using interactive python interpreter (Python 3.7.4)\n",
        "from bioinfokit.analys import stat, get_data\n",
        "# load example dataset\n",
        "df=pd.read_csv('/content/drive/MyDrive/Colab Notebooks/Table2.csv', header=0)\n",
        "df.head()"
      ],
      "execution_count": 9,
      "outputs": [
        {
          "output_type": "execute_result",
          "data": {
            "text/html": [
              "<div>\n",
              "<style scoped>\n",
              "    .dataframe tbody tr th:only-of-type {\n",
              "        vertical-align: middle;\n",
              "    }\n",
              "\n",
              "    .dataframe tbody tr th {\n",
              "        vertical-align: top;\n",
              "    }\n",
              "\n",
              "    .dataframe thead th {\n",
              "        text-align: right;\n",
              "    }\n",
              "</style>\n",
              "<table border=\"1\" class=\"dataframe\">\n",
              "  <thead>\n",
              "    <tr style=\"text-align: right;\">\n",
              "      <th></th>\n",
              "      <th>Index</th>\n",
              "      <th>HCW without COVID-19</th>\n",
              "      <th>HCW with COVID-19</th>\n",
              "    </tr>\n",
              "  </thead>\n",
              "  <tbody>\n",
              "    <tr>\n",
              "      <th>0</th>\n",
              "      <td>0</td>\n",
              "      <td>389</td>\n",
              "      <td>76</td>\n",
              "    </tr>\n",
              "    <tr>\n",
              "      <th>1</th>\n",
              "      <td>1</td>\n",
              "      <td>754</td>\n",
              "      <td>104</td>\n",
              "    </tr>\n",
              "  </tbody>\n",
              "</table>\n",
              "</div>"
            ],
            "text/plain": [
              "   Index  HCW without COVID-19  HCW with COVID-19\n",
              "0      0                   389                 76\n",
              "1      1                   754                104"
            ]
          },
          "metadata": {
            "tags": []
          },
          "execution_count": 9
        }
      ]
    },
    {
      "cell_type": "code",
      "metadata": {
        "colab": {
          "base_uri": "https://localhost:8080/",
          "height": 138
        },
        "id": "LXnSGmNY85u5",
        "outputId": "15755829-6e8c-4247-a62e-15d8b5eafe7e"
      },
      "source": [
        "df = df.set_index('Index')\n",
        "# output\n",
        "df.head()"
      ],
      "execution_count": 10,
      "outputs": [
        {
          "output_type": "execute_result",
          "data": {
            "text/html": [
              "<div>\n",
              "<style scoped>\n",
              "    .dataframe tbody tr th:only-of-type {\n",
              "        vertical-align: middle;\n",
              "    }\n",
              "\n",
              "    .dataframe tbody tr th {\n",
              "        vertical-align: top;\n",
              "    }\n",
              "\n",
              "    .dataframe thead th {\n",
              "        text-align: right;\n",
              "    }\n",
              "</style>\n",
              "<table border=\"1\" class=\"dataframe\">\n",
              "  <thead>\n",
              "    <tr style=\"text-align: right;\">\n",
              "      <th></th>\n",
              "      <th>HCW without COVID-19</th>\n",
              "      <th>HCW with COVID-19</th>\n",
              "    </tr>\n",
              "    <tr>\n",
              "      <th>Index</th>\n",
              "      <th></th>\n",
              "      <th></th>\n",
              "    </tr>\n",
              "  </thead>\n",
              "  <tbody>\n",
              "    <tr>\n",
              "      <th>0</th>\n",
              "      <td>389</td>\n",
              "      <td>76</td>\n",
              "    </tr>\n",
              "    <tr>\n",
              "      <th>1</th>\n",
              "      <td>754</td>\n",
              "      <td>104</td>\n",
              "    </tr>\n",
              "  </tbody>\n",
              "</table>\n",
              "</div>"
            ],
            "text/plain": [
              "       HCW without COVID-19  HCW with COVID-19\n",
              "Index                                         \n",
              "0                       389                 76\n",
              "1                       754                104"
            ]
          },
          "metadata": {
            "tags": []
          },
          "execution_count": 10
        }
      ]
    },
    {
      "cell_type": "code",
      "metadata": {
        "colab": {
          "base_uri": "https://localhost:8080/"
        },
        "id": "2H1wvj7o88qS",
        "outputId": "213ef78a-58fe-4aed-defc-9bc247ae3581"
      },
      "source": [
        "# run chi-square test for independence\n",
        "res = stat()\n",
        "res.chisq(df=df)\n",
        "# output\n",
        "print(res.summary)\n",
        "# corrected for the Yates’ continuity"
      ],
      "execution_count": 11,
      "outputs": [
        {
          "output_type": "stream",
          "text": [
            "\n",
            "Chi-squared test for independence\n",
            "\n",
            "Test              Df    Chi-square    P-value\n",
            "--------------  ----  ------------  ---------\n",
            "Pearson            1       4.22286  0.0398829\n",
            "Log-likelihood     1       4.13361  0.0420395\n",
            "\n"
          ],
          "name": "stdout"
        }
      ]
    },
    {
      "cell_type": "code",
      "metadata": {
        "colab": {
          "base_uri": "https://localhost:8080/"
        },
        "id": "esz6JgEJ9AlQ",
        "outputId": "0459f142-28c3-42b6-b5bf-ba5cddbc5f65"
      },
      "source": [
        "print(res.expected_df)"
      ],
      "execution_count": 12,
      "outputs": [
        {
          "output_type": "stream",
          "text": [
            "\n",
            "Expected frequency counts\n",
            "\n",
            "      HCW without COVID-19    HCW with COVID-19\n",
            "--  ----------------------  -------------------\n",
            " 0                 401.735              63.2653\n",
            " 1                 741.265             116.735\n",
            "\n"
          ],
          "name": "stdout"
        }
      ]
    },
    {
      "cell_type": "code",
      "metadata": {
        "colab": {
          "base_uri": "https://localhost:8080/"
        },
        "id": "MWiyVevV9I2T",
        "outputId": "251f1c53-d113-4cfe-d9df-a10c84065666"
      },
      "source": [
        "# using chi2_contingency function from scipy package\n",
        "import numpy as np\n",
        "from scipy.stats import chi2_contingency \n",
        "# using Pearson’s chi-squared statistic\n",
        "# corrected for the Yates’ continuity\n",
        "observed = np.array([[389, 76], [754, 104]])\n",
        "chi_val, p_val, dof, expected =  chi2_contingency(observed)\n",
        "chi_val, p_val, dof, expected"
      ],
      "execution_count": 13,
      "outputs": [
        {
          "output_type": "execute_result",
          "data": {
            "text/plain": [
              "(4.222860851683243,\n",
              " 0.03988286250132268,\n",
              " 1,\n",
              " array([[401.73469388,  63.26530612],\n",
              "        [741.26530612, 116.73469388]]))"
            ]
          },
          "metadata": {
            "tags": []
          },
          "execution_count": 13
        }
      ]
    },
    {
      "cell_type": "code",
      "metadata": {
        "colab": {
          "base_uri": "https://localhost:8080/",
          "height": 198
        },
        "id": "TEIyL8Q_9aud",
        "outputId": "35c6a29b-4cd5-4f86-ed6b-fddf7359e7ef"
      },
      "source": [
        "import pandas as pd\n",
        "# I am using interactive python interpreter (Python 3.7.4)\n",
        "from bioinfokit.analys import stat, get_data\n",
        "# load example dataset\n",
        "df=pd.read_csv('/content/drive/MyDrive/Colab Notebooks/Table3.csv', header=0)\n",
        "df.head()"
      ],
      "execution_count": 14,
      "outputs": [
        {
          "output_type": "execute_result",
          "data": {
            "text/html": [
              "<div>\n",
              "<style scoped>\n",
              "    .dataframe tbody tr th:only-of-type {\n",
              "        vertical-align: middle;\n",
              "    }\n",
              "\n",
              "    .dataframe tbody tr th {\n",
              "        vertical-align: top;\n",
              "    }\n",
              "\n",
              "    .dataframe thead th {\n",
              "        text-align: right;\n",
              "    }\n",
              "</style>\n",
              "<table border=\"1\" class=\"dataframe\">\n",
              "  <thead>\n",
              "    <tr style=\"text-align: right;\">\n",
              "      <th></th>\n",
              "      <th>Index</th>\n",
              "      <th>HCW without COVID-19</th>\n",
              "      <th>HCW with COVID-19</th>\n",
              "    </tr>\n",
              "  </thead>\n",
              "  <tbody>\n",
              "    <tr>\n",
              "      <th>0</th>\n",
              "      <td>0</td>\n",
              "      <td>362</td>\n",
              "      <td>67</td>\n",
              "    </tr>\n",
              "    <tr>\n",
              "      <th>1</th>\n",
              "      <td>1</td>\n",
              "      <td>502</td>\n",
              "      <td>89</td>\n",
              "    </tr>\n",
              "    <tr>\n",
              "      <th>2</th>\n",
              "      <td>2</td>\n",
              "      <td>4</td>\n",
              "      <td>5</td>\n",
              "    </tr>\n",
              "    <tr>\n",
              "      <th>3</th>\n",
              "      <td>3</td>\n",
              "      <td>76</td>\n",
              "      <td>7</td>\n",
              "    </tr>\n",
              "    <tr>\n",
              "      <th>4</th>\n",
              "      <td>4</td>\n",
              "      <td>199</td>\n",
              "      <td>12</td>\n",
              "    </tr>\n",
              "  </tbody>\n",
              "</table>\n",
              "</div>"
            ],
            "text/plain": [
              "   Index  HCW without COVID-19  HCW with COVID-19\n",
              "0      0                   362                 67\n",
              "1      1                   502                 89\n",
              "2      2                     4                  5\n",
              "3      3                    76                  7\n",
              "4      4                   199                 12"
            ]
          },
          "metadata": {
            "tags": []
          },
          "execution_count": 14
        }
      ]
    },
    {
      "cell_type": "code",
      "metadata": {
        "colab": {
          "base_uri": "https://localhost:8080/",
          "height": 228
        },
        "id": "-rJ57JQ09gZN",
        "outputId": "cf62b19c-de8c-4b57-ce47-d1c5215cdd45"
      },
      "source": [
        "df = df.set_index('Index')\n",
        "# output\n",
        "df.head()"
      ],
      "execution_count": 15,
      "outputs": [
        {
          "output_type": "execute_result",
          "data": {
            "text/html": [
              "<div>\n",
              "<style scoped>\n",
              "    .dataframe tbody tr th:only-of-type {\n",
              "        vertical-align: middle;\n",
              "    }\n",
              "\n",
              "    .dataframe tbody tr th {\n",
              "        vertical-align: top;\n",
              "    }\n",
              "\n",
              "    .dataframe thead th {\n",
              "        text-align: right;\n",
              "    }\n",
              "</style>\n",
              "<table border=\"1\" class=\"dataframe\">\n",
              "  <thead>\n",
              "    <tr style=\"text-align: right;\">\n",
              "      <th></th>\n",
              "      <th>HCW without COVID-19</th>\n",
              "      <th>HCW with COVID-19</th>\n",
              "    </tr>\n",
              "    <tr>\n",
              "      <th>Index</th>\n",
              "      <th></th>\n",
              "      <th></th>\n",
              "    </tr>\n",
              "  </thead>\n",
              "  <tbody>\n",
              "    <tr>\n",
              "      <th>0</th>\n",
              "      <td>362</td>\n",
              "      <td>67</td>\n",
              "    </tr>\n",
              "    <tr>\n",
              "      <th>1</th>\n",
              "      <td>502</td>\n",
              "      <td>89</td>\n",
              "    </tr>\n",
              "    <tr>\n",
              "      <th>2</th>\n",
              "      <td>4</td>\n",
              "      <td>5</td>\n",
              "    </tr>\n",
              "    <tr>\n",
              "      <th>3</th>\n",
              "      <td>76</td>\n",
              "      <td>7</td>\n",
              "    </tr>\n",
              "    <tr>\n",
              "      <th>4</th>\n",
              "      <td>199</td>\n",
              "      <td>12</td>\n",
              "    </tr>\n",
              "  </tbody>\n",
              "</table>\n",
              "</div>"
            ],
            "text/plain": [
              "       HCW without COVID-19  HCW with COVID-19\n",
              "Index                                         \n",
              "0                       362                 67\n",
              "1                       502                 89\n",
              "2                         4                  5\n",
              "3                        76                  7\n",
              "4                       199                 12"
            ]
          },
          "metadata": {
            "tags": []
          },
          "execution_count": 15
        }
      ]
    },
    {
      "cell_type": "code",
      "metadata": {
        "colab": {
          "base_uri": "https://localhost:8080/"
        },
        "id": "bzCObx2_9jT8",
        "outputId": "3797b2c4-1a69-4fd3-e89c-6f235a1bd3a5"
      },
      "source": [
        "# run chi-square test for independence\n",
        "res = stat()\n",
        "res.chisq(df=df)\n",
        "# output\n",
        "print(res.summary)\n",
        "# corrected for the Yates’ continuity"
      ],
      "execution_count": 16,
      "outputs": [
        {
          "output_type": "stream",
          "text": [
            "\n",
            "Chi-squared test for independence\n",
            "\n",
            "Test              Df    Chi-square      P-value\n",
            "--------------  ----  ------------  -----------\n",
            "Pearson            4       29.1584  7.25902e-06\n",
            "Log-likelihood     4       27.3141  1.71739e-05\n",
            "\n"
          ],
          "name": "stdout"
        }
      ]
    },
    {
      "cell_type": "code",
      "metadata": {
        "colab": {
          "base_uri": "https://localhost:8080/"
        },
        "id": "6QWmeE3H9o3S",
        "outputId": "777a7214-0274-4258-b94d-17dfbc810fa9"
      },
      "source": [
        "print(res.expected_df)"
      ],
      "execution_count": 17,
      "outputs": [
        {
          "output_type": "stream",
          "text": [
            "\n",
            "Expected frequency counts\n",
            "\n",
            "      HCW without COVID-19    HCW with COVID-19\n",
            "--  ----------------------  -------------------\n",
            " 0               370.633               58.3673\n",
            " 1               510.592               80.4082\n",
            " 2                 7.77551              1.22449\n",
            " 3                71.7075              11.2925\n",
            " 4               182.293               28.7075\n",
            "\n"
          ],
          "name": "stdout"
        }
      ]
    },
    {
      "cell_type": "code",
      "metadata": {
        "colab": {
          "base_uri": "https://localhost:8080/"
        },
        "id": "8IIPc-8O9vmT",
        "outputId": "45372027-1ef5-4954-e9f9-2bb1eedebe93"
      },
      "source": [
        "# using chi2_contingency function from scipy package\n",
        "import numpy as np\n",
        "from scipy.stats import chi2_contingency \n",
        "# using Pearson’s chi-squared statistic\n",
        "# corrected for the Yates’ continuity\n",
        "observed = np.array([[362, 67], [502, 89], [4, 5], [76, 7], [199, 12]])\n",
        "chi_val, p_val, dof, expected =  chi2_contingency(observed)\n",
        "chi_val, p_val, dof, expected"
      ],
      "execution_count": 18,
      "outputs": [
        {
          "output_type": "execute_result",
          "data": {
            "text/plain": [
              "(29.158406164215954,\n",
              " 7.259016598671466e-06,\n",
              " 4,\n",
              " array([[370.63265306,  58.36734694],\n",
              "        [510.59183673,  80.40816327],\n",
              "        [  7.7755102 ,   1.2244898 ],\n",
              "        [ 71.70748299,  11.29251701],\n",
              "        [182.29251701,  28.70748299]]))"
            ]
          },
          "metadata": {
            "tags": []
          },
          "execution_count": 18
        }
      ]
    }
  ]
}